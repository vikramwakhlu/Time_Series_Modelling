{
  "nbformat": 4,
  "nbformat_minor": 0,
  "metadata": {
    "colab": {
      "provenance": [],
      "authorship_tag": "ABX9TyPD+nLHZ3Z3tLaMo81IodU9",
      "include_colab_link": true
    },
    "kernelspec": {
      "name": "python3",
      "display_name": "Python 3"
    },
    "language_info": {
      "name": "python"
    }
  },
  "cells": [
    {
      "cell_type": "markdown",
      "metadata": {
        "id": "view-in-github",
        "colab_type": "text"
      },
      "source": [
        "<a href=\"https://colab.research.google.com/github/vikramwakhlu/Time_Series_Modelling/blob/main/data_prep.ipynb\" target=\"_parent\"><img src=\"https://colab.research.google.com/assets/colab-badge.svg\" alt=\"Open In Colab\"/></a>"
      ]
    },
    {
      "cell_type": "code",
      "execution_count": null,
      "metadata": {
        "id": "ZwMUl5bfe276"
      },
      "outputs": [],
      "source": [
        "# STEP 0: Install gdown\n",
        "!pip install -U gdown\n",
        "\n",
        "# STEP 1: Imports and helper functions\n",
        "import pandas as pd\n",
        "import requests\n",
        "import io\n",
        "import gdown\n",
        "\n",
        "# Build the download URL from a file ID\n",
        "def make_drive_url(file_id):\n",
        "    return f\"https://drive.google.com/uc?id={file_id}\"\n",
        "\n",
        "# Helper function to load a CSV from a direct URL\n",
        "def load_csv_from_url(url):\n",
        "    response = requests.get(url)\n",
        "    response.raise_for_status()  # Raises an error if the request fails\n",
        "    return pd.read_csv(io.StringIO(response.text))\n",
        "\n",
        "# STEP 2: Dictionary of file IDs\n",
        "file_ids = {\n",
        "    \"holiday_events\": \"1RMjSuqHXHTwAw_PGD5XVjhA3agaAGHDH\",\n",
        "    \"items\": \"1ogMRixVhNY6XOJtIRtkRllyOyzw1nqya\",\n",
        "    \"oil\": \"1Q59vk2v4WQ-Rpc9t2nqHcsZM3QWGFje_\",\n",
        "    \"stores\": \"1Ei0MUXmNhmOcmrlPad8oklnFEDM95cDi\",\n",
        "    \"train\": \"1oEX8NEJPY7wPmSJ0n7lO1JUFYyZjFBRv\",\n",
        "    \"transactions\": \"1PW5LnAEAiL43fI5CRDn_h6pgDG5rtBW_\"\n",
        "}\n",
        "\n",
        "# STEP 3: Read all files but train.csv (already done in previous runs, keeping for context)\n",
        "# Load each CSV using the helper functions\n",
        "df_holiday_events = load_csv_from_url(make_drive_url(file_ids[\"holiday_events\"]))\n",
        "df_items          = load_csv_from_url(make_drive_url(file_ids[\"items\"]))\n",
        "df_oil            = load_csv_from_url(make_drive_url(file_ids[\"oil\"]))\n",
        "df_stores         = load_csv_from_url(make_drive_url(file_ids[\"stores\"]))\n",
        "df_transactions   = load_csv_from_url(make_drive_url(file_ids[\"transactions\"]))\n",
        "\n",
        "# STEP 4: Download the train.csv file using gdown\n",
        "train_url = make_drive_url(file_ids[\"train\"])\n",
        "gdown.download(train_url, \"train.csv\", quiet=False)\n",
        "\n",
        "# STEP 5: Load stores and get Guayas store IDs\n",
        "stores_url = make_drive_url(file_ids[\"stores\"])\n",
        "df_stores = pd.read_csv(io.StringIO(requests.get(stores_url).text))\n",
        "store_ids = df_stores[df_stores['state'] == 'Guayas']['store_nbr'].unique()\n",
        "\n",
        "\n",
        "# STEP 6: Read train.csv in chunks and filter for Guayas region\n",
        "chunk_size = 10**6\n",
        "filtered_chunks = []\n",
        "\n",
        "for chunk in pd.read_csv(\"train.csv\", chunksize=chunk_size):\n",
        "    chunk_filtered = chunk[chunk['store_nbr'].isin(store_ids)]\n",
        "    filtered_chunks.append(chunk_filtered)\n",
        "    del chunk\n",
        "\n",
        "# STEP 7: Combine and sample\n",
        "df_train = pd.concat(filtered_chunks, ignore_index=True).sample(n=2_000_000).reset_index(drop=True)\n",
        "\n",
        "# Ensure date column is datetime\n",
        "df_train['date'] = pd.to_datetime(df_train['date'])\n",
        "\n",
        "# STEP 8: Identify the top-3 families by item count\n",
        "items_per_family = df_items['family'].value_counts().reset_index()\n",
        "items_per_family.columns = ['Family', 'Item Count']\n",
        "top_3_families = items_per_family.head(3)  # here is where we get the top-3 families\n",
        "\n",
        "# Next, we filter our the dataset\n",
        "# Assuming that train.csv file was read into a variable called df_train\n",
        "# Get the list of item_nbrs that belong to those families\n",
        "item_ids = df_items[df_items['family'].isin(top_3_families['Family'].unique())]['item_nbr'].unique()\n",
        "\n",
        "# Filter the training data\n",
        "df_train = df_train[df_train['item_nbr'].isin(item_ids)]\n",
        "\n",
        "# STEP 9: Clean up memory\n",
        "del filtered_chunks"
      ]
    }
  ]
}